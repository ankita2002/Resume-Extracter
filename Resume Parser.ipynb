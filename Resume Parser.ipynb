{
 "cells": [
  {
   "cell_type": "code",
   "execution_count": 11,
   "metadata": {},
   "outputs": [
    {
     "name": "stdout",
     "output_type": "stream",
     "text": [
      "Amey Bhavsar\n",
      "\n",
      "+91-90823-17970 | amey.bhavsar@slrtce.in | linkedin.com/in/b-amey | github.com/ameybhavsar24\n",
      "\n",
      "Education\n",
      "\n",
      "Shree LR Tiwari College of Engineering, University of Mumbai\n",
      "Bachelor of Engineering, Computer Engineering, GPA - 9.09\n",
      "\n",
      "Sathaye College, HSC\n",
      "Science, Vocational course in Computer Science\n",
      "\n",
      "Experience\n",
      "\n",
      "Web Developer\n",
      "Entrepreneurship Cell, SLRTCE\n",
      "\n",
      "• Developing a server-less lambda function to send emails from the application.\n",
      "• Worked as a team to design the front-end using Git & GitHub.\n",
      "• Developed a website using JavaScript and SASS to display events and information.\n",
      "\n",
      "Design Engineer Intern\n",
      "InTech Olympiad, COEP\n",
      "\n",
      "Projects\n",
      "\n",
      "• Designed back-end and user interface to handle robots for COVID treatment hospitals.\n",
      "• Researched path finding and collision avoidance algorithms.\n",
      "• Communicated with mentor and team members to resolve issues.\n",
      "\n",
      "Mumbai, India\n",
      "Aug. 2019 – Present\n",
      "\n",
      "Mumbai, India\n",
      "Aug. 2017 – May 2019\n",
      "\n",
      "Aug. 2020 – Present\n",
      "Mumbai, India\n",
      "\n",
      "May 2020 – July 2020\n",
      "Remote\n",
      "\n",
      "Blog website | Python, Django, SQLite, Git\n",
      "\n",
      "Oct. 2019 – Nov. 2019\n",
      "\n",
      "• Developed a full-stack blog application with create, read and update operations using Django for backend.\n",
      "• Implemented authentication to create and update posts.\n",
      "• Used CSS and Google Fonts to improve application design.\n",
      "\n",
      "Convex Hull Simulation | C++,Javascript, p5.js\n",
      "\n",
      "March 2020 – April 2020\n",
      "• Developed a interactive simulation of the Gift Wrapping/Jarvis’s March Convex Hull Algorithm using p5.js for\n",
      "\n",
      "graphics\n",
      "\n",
      "Skills & Acheivements\n",
      "\n",
      "• Implemented the algorithm in C++ to test on various inputs and verify simulation results.\n",
      "\n",
      "Competitive Programming: Solved 900+ algorithmic problems using C++ primarily. Reached a peak rating of\n",
      "1799.\n",
      "Open Source: Committed to 20+ repositories with 370+ contributions for Dec. 2019-2020.\n",
      "Languages: C/C++, Python, JavaScript, HTML/CSS, PHP, MySQL, Java, Latex\n",
      "Frameworks: React, Node.js, Django, Material-UI, Bootstrap\n",
      "Tools and Environment: Ubuntu, Git, Bash, Visual Studio Code, Eclipse\n",
      "Fluency: English, Hindi, Marathi\n",
      "\n",
      "\f",
      "\n"
     ]
    }
   ],
   "source": [
    "from pdfminer.high_level import extract_text\n",
    "\n",
    "\n",
    "def extract_text_from_pdf(pdf_path):\n",
    "    return extract_text(pdf_path)\n",
    "\n",
    "\n",
    "if __name__ == '__main__':\n",
    "    print(extract_text_from_pdf(r'C:\\Users\\ankita upadhyay\\Documents\\Python\\Python codes\\2021\\Resume Validator\\resume_amey_bhavsar_latest.pdf'))"
   ]
  },
  {
   "cell_type": "code",
   "execution_count": 22,
   "metadata": {},
   "outputs": [],
   "source": [
    "import re\n",
    "import docx2txt\n",
    "\n",
    "path = docx2txt.process(r'C:\\Users\\ankita upadhyay\\Documents\\Python\\Python codes\\2021\\Resume Validator\\Ankitaresume.docx')\n",
    "\n",
    "def College(path):\n",
    "    line = re.search(r'/([A-Z][^\\s,.]+[.]?\\s[(]?)*(Hospital|University|Institute|Law School|School of|Academy)[^,\\d]*(?=,|\\d)/', line)\n",
    "    print(line)"
   ]
  }
 ],
 "metadata": {
  "kernelspec": {
   "display_name": "Python 3",
   "language": "python",
   "name": "python3"
  },
  "language_info": {
   "codemirror_mode": {
    "name": "ipython",
    "version": 3
   },
   "file_extension": ".py",
   "mimetype": "text/x-python",
   "name": "python",
   "nbconvert_exporter": "python",
   "pygments_lexer": "ipython3",
   "version": "3.8.3"
  }
 },
 "nbformat": 4,
 "nbformat_minor": 4
}
